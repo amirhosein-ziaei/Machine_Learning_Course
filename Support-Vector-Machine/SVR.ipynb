{
 "cells": [
  {
   "attachments": {},
   "cell_type": "markdown",
   "metadata": {},
   "source": [
    "<div class=\"alert alert-block alert-success\">\n",
    "    <h1 align=\"center\"> Support Vector Machine (Regression) - (Positin Salaries Dataset) </h1>\n",
    "    <h3 align=\"center\"><a href=\"https://github.com/amirhosein-ziaei\">Amirhosein Ziaei</a></h3>\n",
    "</div>"
   ]
  },
  {
   "attachments": {},
   "cell_type": "markdown",
   "metadata": {},
   "source": [
    "## What is SVR?"
   ]
  },
  {
   "attachments": {},
   "cell_type": "markdown",
   "metadata": {},
   "source": [
    "Support Vector regression is a type of Support vector machine that supports linear and non-linear regression. As it seems in the below graph, the mission is to fit as many instances as possible between the lines while limiting the margin violations. The violation concept in this example represents as ε (epsilon)."
   ]
  },
  {
   "attachments": {},
   "cell_type": "markdown",
   "metadata": {},
   "source": [
    "## *Implement SVR on Generated Data*"
   ]
  },
  {
   "attachments": {},
   "cell_type": "markdown",
   "metadata": {},
   "source": [
    "### *Importing Libraries*"
   ]
  },
  {
   "cell_type": "code",
   "execution_count": 5,
   "metadata": {},
   "outputs": [],
   "source": [
    "import numpy as np\n",
    "from sklearn.svm import SVR\n",
    "import pylab as pl"
   ]
  },
  {
   "attachments": {},
   "cell_type": "markdown",
   "metadata": {},
   "source": [
    "### *Generate Data*"
   ]
  },
  {
   "cell_type": "code",
   "execution_count": 6,
   "metadata": {},
   "outputs": [],
   "source": [
    "X = np.sort(5 * np.random.rand(40, 1), axis=0)\n",
    "y = np.sin(X).ravel()"
   ]
  },
  {
   "cell_type": "code",
   "execution_count": 7,
   "metadata": {},
   "outputs": [
    {
     "data": {
      "text/plain": [
       "array([[0.11211747],\n",
       "       [0.34490133],\n",
       "       [0.37971321],\n",
       "       [0.52497702],\n",
       "       [0.64027011],\n",
       "       [0.73842506],\n",
       "       [0.80577084],\n",
       "       [0.95066365],\n",
       "       [0.96594602],\n",
       "       [1.01028697],\n",
       "       [1.56917524],\n",
       "       [1.57114357],\n",
       "       [1.75618896],\n",
       "       [1.78936097],\n",
       "       [1.88270919],\n",
       "       [2.07216729],\n",
       "       [2.09744143],\n",
       "       [2.12118251],\n",
       "       [2.40239845],\n",
       "       [2.61575099],\n",
       "       [2.9033491 ],\n",
       "       [2.97606282],\n",
       "       [3.10215452],\n",
       "       [3.16046576],\n",
       "       [3.16275681],\n",
       "       [3.61142905],\n",
       "       [3.75035804],\n",
       "       [3.79835776],\n",
       "       [4.01793537],\n",
       "       [4.05598137],\n",
       "       [4.14976654],\n",
       "       [4.26711885],\n",
       "       [4.30071922],\n",
       "       [4.34418985],\n",
       "       [4.34596964],\n",
       "       [4.43287467],\n",
       "       [4.47698498],\n",
       "       [4.48341604],\n",
       "       [4.54905936],\n",
       "       [4.7387949 ]])"
      ]
     },
     "execution_count": 7,
     "metadata": {},
     "output_type": "execute_result"
    }
   ],
   "source": [
    "X"
   ]
  },
  {
   "cell_type": "code",
   "execution_count": 8,
   "metadata": {},
   "outputs": [
    {
     "data": {
      "text/plain": [
       "array([ 0.11188272,  0.33810382,  0.37065412,  0.50119312,  0.59741207,\n",
       "        0.67312403,  0.72136471,  0.81380136,  0.82258723,  0.84698444,\n",
       "        0.99999869,  0.99999994,  0.98286395,  0.97620968,  0.95174829,\n",
       "        0.87692446,  0.86449823,  0.85232261,  0.67369264,  0.50194113,\n",
       "        0.23599616,  0.16477495,  0.03942791, -0.01887199, -0.02116257,\n",
       "       -0.45274041, -0.57185507, -0.61055811, -0.76840349, -0.79218968,\n",
       "       -0.84585919, -0.90249435, -0.91645396, -0.93297706, -0.93361619,\n",
       "       -0.96118955, -0.97242019, -0.97390003, -0.98669134, -0.99965138])"
      ]
     },
     "execution_count": 8,
     "metadata": {},
     "output_type": "execute_result"
    }
   ],
   "source": [
    "y"
   ]
  },
  {
   "attachments": {},
   "cell_type": "markdown",
   "metadata": {},
   "source": [
    "### *Adding Noise to Data*"
   ]
  },
  {
   "cell_type": "code",
   "execution_count": 9,
   "metadata": {},
   "outputs": [],
   "source": [
    "y[::5] += 3 * (0.5 - np.random.rand(8))"
   ]
  },
  {
   "cell_type": "code",
   "execution_count": 10,
   "metadata": {},
   "outputs": [
    {
     "data": {
      "text/plain": [
       "array([ 1.26262632,  0.33810382,  0.37065412,  0.50119312,  0.59741207,\n",
       "        1.95035613,  0.72136471,  0.81380136,  0.82258723,  0.84698444,\n",
       "        1.87436648,  0.99999994,  0.98286395,  0.97620968,  0.95174829,\n",
       "       -0.46492919,  0.86449823,  0.85232261,  0.67369264,  0.50194113,\n",
       "       -0.7577829 ,  0.16477495,  0.03942791, -0.01887199, -0.02116257,\n",
       "       -1.20429334, -0.57185507, -0.61055811, -0.76840349, -0.79218968,\n",
       "       -1.46385562, -0.90249435, -0.91645396, -0.93297706, -0.93361619,\n",
       "        0.35913976, -0.97242019, -0.97390003, -0.98669134, -0.99965138])"
      ]
     },
     "execution_count": 10,
     "metadata": {},
     "output_type": "execute_result"
    }
   ],
   "source": [
    "y"
   ]
  },
  {
   "attachments": {},
   "cell_type": "markdown",
   "metadata": {},
   "source": [
    "### *Training Model*"
   ]
  },
  {
   "cell_type": "code",
   "execution_count": 12,
   "metadata": {},
   "outputs": [],
   "source": [
    "svr_rbf = SVR(kernel='rbf', C=1e4, gamma=0.1)\n",
    "svr_lin = SVR(kernel='linear', C=1e4)\n",
    "svr_poly = SVR(kernel='poly', C=1e4, degree=2)"
   ]
  },
  {
   "cell_type": "code",
   "execution_count": 13,
   "metadata": {},
   "outputs": [],
   "source": [
    "y_rbf = svr_rbf.fit(X, y).predict(X)\n",
    "y_lin = svr_lin.fit(X, y).predict(X)\n",
    "y_poly = svr_poly.fit(X, y).predict(X)"
   ]
  },
  {
   "cell_type": "code",
   "execution_count": null,
   "metadata": {},
   "outputs": [],
   "source": []
  }
 ],
 "metadata": {
  "kernelspec": {
   "display_name": "base",
   "language": "python",
   "name": "python3"
  },
  "language_info": {
   "codemirror_mode": {
    "name": "ipython",
    "version": 3
   },
   "file_extension": ".py",
   "mimetype": "text/x-python",
   "name": "python",
   "nbconvert_exporter": "python",
   "pygments_lexer": "ipython3",
   "version": "3.9.13"
  },
  "orig_nbformat": 4
 },
 "nbformat": 4,
 "nbformat_minor": 2
}
